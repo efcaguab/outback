{
 "cells": [
  {
   "cell_type": "code",
   "execution_count": 26,
   "source": [
    "from selenium import webdriver\n",
    "import chromedriver_binary\n",
    "from bs4 import BeautifulSoup\n",
    "import re \n",
    "from math import ceil\n",
    "import time\n",
    "import random"
   ],
   "outputs": [],
   "metadata": {}
  },
  {
   "cell_type": "code",
   "execution_count": 15,
   "source": [
    "\n",
    "def get_results_urls(main_soup, search_url):\n",
    "    result_cards = main_soup.find_all(\"div\", class_ = \"tm-motors-search-card__wrapper\")\n",
    "    n_cards_per_page = len(result_cards)\n",
    "    n_listings_text = main_soup.find(\"h3\", class_=\"tm-search-header-result-count__heading\").get_text()\n",
    "    n_listings = int(re.search(\"[0-9]+\", n_listings_text).group())\n",
    "    n_pages = ceil(n_listings / n_cards_per_page)\n",
    "    return [search_url + \"&page=\" + str(i + 1) for i in range(n_pages)]\n",
    "\n",
    "def get_listing_ids(results_page_soup, base_url):\n",
    "    listing_links = results_page_soup.find_all(\"a\", class_ = \"tm-motors-search-card__link\")\n",
    "    listing_ids = [re.search(\"[0-9]+\", link.get('href')).group() for link in listing_links]\n",
    "    return listing_ids\n",
    "\n",
    "def get_listing_urls(listing_ids, base_url):\n",
    "    return [base_url + \"listing/\" + listing_id for listing_id in listing_ids]\n",
    "\n",
    "def get_listing_kilometers(listing_soup):\n",
    "    text = listing_soup.find(\"div\", class_ = \"tm-motors-vehicle-attributes__tag--content\").get_text(strip = True)\n",
    "    return int(re.search(\"[0-9]*,[0-9]+\", text).group().replace(\",\", \"\"))\n",
    "\n",
    "def get_listing_year(listing_soup):\n",
    "    text = listing_soup.find(\"h1\").get_text(strip = True)\n",
    "    return int(re.search(\"^[0-9]{4}\", text).group())\n",
    "\n",
    "def get_listing_city(listing_soup):\n",
    "    text = listing_soup.find(\"span\", class_ = \"tm-motors-date-city-watchlist__location\").get_text(strip = True)\n",
    "    return re.sub(\"^.+located in \", \"\", text).strip()\n",
    "\n",
    "def scrape_results_url(search_results_url, base_url):\n",
    "    print(\"Scraping \", search_results_url)\n",
    "    time.sleep(random.randint(1, 3))\n",
    "    driver = webdriver.Chrome()\n",
    "    driver.get(search_results_url)\n",
    "    result_soup = BeautifulSoup(driver.page_source)\n",
    "    time.sleep(random.randint(1, 3))\n",
    "    driver.close()\n",
    "    return get_listing_urls(result_soup, base_url)"
   ],
   "outputs": [],
   "metadata": {}
  },
  {
   "cell_type": "code",
   "execution_count": 3,
   "source": [
    "base_url = \"https://www.trademe.co.nz/a/motors/cars/subaru/outback/\"\n",
    "search_url = base_url + \"search?sort_order=motorslatestlistings\"\n",
    "driver = webdriver.Chrome()\n",
    "driver.get(search_url)\n",
    "results_main = BeautifulSoup(driver.page_source)\n",
    "driver.close()"
   ],
   "outputs": [],
   "metadata": {}
  },
  {
   "cell_type": "code",
   "execution_count": 28,
   "source": [
    "results_urls = get_results_urls(results_main, search_url)\n",
    "listing_urls = []\n",
    "for this_url in results_urls[0:2]:\n",
    "    listing_urls = listing_urls + scrape_results_url(this_url, base_url)"
   ],
   "outputs": [],
   "metadata": {}
  }
 ],
 "metadata": {
  "orig_nbformat": 4,
  "kernelspec": {
   "name": "python3",
   "display_name": "Python 3.7.10 64-bit ('outback': conda)"
  },
  "language_info": {
   "name": "python",
   "version": "3.7.10",
   "mimetype": "text/x-python",
   "codemirror_mode": {
    "name": "ipython",
    "version": 3
   },
   "pygments_lexer": "ipython3",
   "nbconvert_exporter": "python",
   "file_extension": ".py"
  },
  "interpreter": {
   "hash": "4c38a81cedd80665cae43ae0dc6a7952749435e2e22422c08cef7369a98466d8"
  }
 },
 "nbformat": 4,
 "nbformat_minor": 2
}